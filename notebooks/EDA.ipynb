{
 "cells": [
  {
   "cell_type": "code",
   "execution_count": 1,
   "outputs": [],
   "source": [
    "import pandas as pd\n",
    "import os\n",
    "import openpyxl\n",
    "from src.domain.usecase.process_files import ProcessXlsxFiles"
   ],
   "metadata": {
    "collapsed": false,
    "pycharm": {
     "name": "#%%\n"
    }
   }
  },
  {
   "cell_type": "code",
   "execution_count": 2,
   "outputs": [
    {
     "data": {
      "text/plain": "'97236288220_2021_12.xlsx'"
     },
     "execution_count": 2,
     "metadata": {},
     "output_type": "execute_result"
    }
   ],
   "source": [
    "raw_data_path = '../data/rawdata/'\n",
    "files = os.listdir(raw_data_path)\n",
    "files[0]"
   ],
   "metadata": {
    "collapsed": false,
    "pycharm": {
     "name": "#%%\n"
    }
   }
  },
  {
   "cell_type": "code",
   "execution_count": 3,
   "outputs": [],
   "source": [
    "process_files = ProcessXlsxFiles(raw_data_path+files[0])\n",
    "rows, final_row_file = process_files.get_limits_data()"
   ],
   "metadata": {
    "collapsed": false,
    "pycharm": {
     "name": "#%%\n"
    }
   }
  },
  {
   "cell_type": "code",
   "execution_count": 4,
   "outputs": [],
   "source": [
    "df = process_files.get_data()"
   ],
   "metadata": {
    "collapsed": false,
    "pycharm": {
     "name": "#%%\n"
    }
   }
  },
  {
   "cell_type": "code",
   "execution_count": 5,
   "outputs": [],
   "source": [
    "df['VALOR'] = df['VALOR'].apply(lambda x: x.replace(',','')).astype(float)"
   ],
   "metadata": {
    "collapsed": false,
    "pycharm": {
     "name": "#%%\n"
    }
   }
  },
  {
   "cell_type": "code",
   "execution_count": 6,
   "outputs": [
    {
     "data": {
      "text/plain": "        FECHA                     DESCRIPCIÓN           SUCURSAL DCTO.  \\\n0  2021-10-01         ABONO INTERESES AHORROS               None  None   \n1  2021-10-01                   PAGO SMARTFIT    C.C UNICO PASTO  None   \n2  2021-10-01   TRANSFERENCIA CTA SUC VIRTUAL               None  None   \n3  2021-10-02         ABONO INTERESES AHORROS               None  None   \n4  2021-10-02          RETIRO CORRESPONSAL CB  CANAL CORRESPONSA  None   \n..        ...                             ...                ...   ...   \n6  2021-12-28  PAGO INTERBANC SOFKA TECHNOLOG               None  None   \n7  2021-12-29         ABONO INTERESES AHORROS               None  None   \n8  2021-12-30           COMPRA EN  METRO PAST               None  None   \n9  2021-12-30   PAGO PSE CARTERA COLECTIVA AB               None  None   \n10 2021-12-31         ABONO INTERESES AHORROS               None  None   \n\n         VALOR         SALDO  \n0         9.27  9,824,293.58  \n1    -52900.00  9,771,393.58  \n2  -3000000.00  6,771,393.58  \n3         9.20  6,771,402.78  \n4    -50000.00  6,721,402.78  \n..         ...           ...  \n6   3045000.00  4,086,074.94  \n7        11.18  4,086,086.12  \n8    -42501.00  4,043,585.12  \n9  -1000000.00  3,043,585.12  \n10        8.32  3,043,593.44  \n\n[212 rows x 6 columns]",
      "text/html": "<div>\n<style scoped>\n    .dataframe tbody tr th:only-of-type {\n        vertical-align: middle;\n    }\n\n    .dataframe tbody tr th {\n        vertical-align: top;\n    }\n\n    .dataframe thead th {\n        text-align: right;\n    }\n</style>\n<table border=\"1\" class=\"dataframe\">\n  <thead>\n    <tr style=\"text-align: right;\">\n      <th></th>\n      <th>FECHA</th>\n      <th>DESCRIPCIÓN</th>\n      <th>SUCURSAL</th>\n      <th>DCTO.</th>\n      <th>VALOR</th>\n      <th>SALDO</th>\n    </tr>\n  </thead>\n  <tbody>\n    <tr>\n      <th>0</th>\n      <td>2021-10-01</td>\n      <td>ABONO INTERESES AHORROS</td>\n      <td>None</td>\n      <td>None</td>\n      <td>9.27</td>\n      <td>9,824,293.58</td>\n    </tr>\n    <tr>\n      <th>1</th>\n      <td>2021-10-01</td>\n      <td>PAGO SMARTFIT</td>\n      <td>C.C UNICO PASTO</td>\n      <td>None</td>\n      <td>-52900.00</td>\n      <td>9,771,393.58</td>\n    </tr>\n    <tr>\n      <th>2</th>\n      <td>2021-10-01</td>\n      <td>TRANSFERENCIA CTA SUC VIRTUAL</td>\n      <td>None</td>\n      <td>None</td>\n      <td>-3000000.00</td>\n      <td>6,771,393.58</td>\n    </tr>\n    <tr>\n      <th>3</th>\n      <td>2021-10-02</td>\n      <td>ABONO INTERESES AHORROS</td>\n      <td>None</td>\n      <td>None</td>\n      <td>9.20</td>\n      <td>6,771,402.78</td>\n    </tr>\n    <tr>\n      <th>4</th>\n      <td>2021-10-02</td>\n      <td>RETIRO CORRESPONSAL CB</td>\n      <td>CANAL CORRESPONSA</td>\n      <td>None</td>\n      <td>-50000.00</td>\n      <td>6,721,402.78</td>\n    </tr>\n    <tr>\n      <th>...</th>\n      <td>...</td>\n      <td>...</td>\n      <td>...</td>\n      <td>...</td>\n      <td>...</td>\n      <td>...</td>\n    </tr>\n    <tr>\n      <th>6</th>\n      <td>2021-12-28</td>\n      <td>PAGO INTERBANC SOFKA TECHNOLOG</td>\n      <td>None</td>\n      <td>None</td>\n      <td>3045000.00</td>\n      <td>4,086,074.94</td>\n    </tr>\n    <tr>\n      <th>7</th>\n      <td>2021-12-29</td>\n      <td>ABONO INTERESES AHORROS</td>\n      <td>None</td>\n      <td>None</td>\n      <td>11.18</td>\n      <td>4,086,086.12</td>\n    </tr>\n    <tr>\n      <th>8</th>\n      <td>2021-12-30</td>\n      <td>COMPRA EN  METRO PAST</td>\n      <td>None</td>\n      <td>None</td>\n      <td>-42501.00</td>\n      <td>4,043,585.12</td>\n    </tr>\n    <tr>\n      <th>9</th>\n      <td>2021-12-30</td>\n      <td>PAGO PSE CARTERA COLECTIVA AB</td>\n      <td>None</td>\n      <td>None</td>\n      <td>-1000000.00</td>\n      <td>3,043,585.12</td>\n    </tr>\n    <tr>\n      <th>10</th>\n      <td>2021-12-31</td>\n      <td>ABONO INTERESES AHORROS</td>\n      <td>None</td>\n      <td>None</td>\n      <td>8.32</td>\n      <td>3,043,593.44</td>\n    </tr>\n  </tbody>\n</table>\n<p>212 rows × 6 columns</p>\n</div>"
     },
     "execution_count": 6,
     "metadata": {},
     "output_type": "execute_result"
    }
   ],
   "source": [
    "df"
   ],
   "metadata": {
    "collapsed": false,
    "pycharm": {
     "name": "#%%\n"
    }
   }
  }
 ],
 "metadata": {
  "kernelspec": {
   "display_name": "Python 3",
   "language": "python",
   "name": "python3"
  },
  "language_info": {
   "codemirror_mode": {
    "name": "ipython",
    "version": 2
   },
   "file_extension": ".py",
   "mimetype": "text/x-python",
   "name": "python",
   "nbconvert_exporter": "python",
   "pygments_lexer": "ipython2",
   "version": "2.7.6"
  }
 },
 "nbformat": 4,
 "nbformat_minor": 0
}