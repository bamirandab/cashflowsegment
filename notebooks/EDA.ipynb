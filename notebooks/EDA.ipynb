{
 "cells": [
  {
   "cell_type": "code",
   "execution_count": 1,
   "outputs": [],
   "source": [
    "import pandas as pd\n",
    "import os\n",
    "import openpyxl\n",
    "from src.domain.usecase.process_files import ProcessXlsxFiles"
   ],
   "metadata": {
    "collapsed": false,
    "pycharm": {
     "name": "#%%\n"
    }
   }
  },
  {
   "cell_type": "code",
   "execution_count": 2,
   "outputs": [],
   "source": [
    "raw_data_path = '../data/rawdata/'\n",
    "files = os.listdir(raw_data_path)"
   ],
   "metadata": {
    "collapsed": false,
    "pycharm": {
     "name": "#%%\n"
    }
   }
  },
  {
   "cell_type": "code",
   "execution_count": 4,
   "outputs": [
    {
     "name": "stdout",
     "output_type": "stream",
     "text": [
      "--------process cahsflow data------------\n",
      "--------process 97236288220_2020_12.xlsx file ------------\n",
      "--------process cahsflow data------------\n",
      "--------process 97236288220_2020_3.xlsx file ------------\n",
      "--------process cahsflow data------------\n",
      "--------process 97236288220_2020_6.xlsx file ------------\n",
      "--------process cahsflow data------------\n",
      "--------process 97236288220_2020_9.xlsx file ------------\n",
      "--------process cahsflow data------------\n",
      "--------process 97236288220_2021_12.xlsx file ------------\n",
      "--------process cahsflow data------------\n",
      "--------process 97236288220_2021_3.xlsx file ------------\n",
      "--------process cahsflow data------------\n",
      "--------process 97236288220_2021_6.xlsx file ------------\n",
      "--------process cahsflow data------------\n",
      "--------process 97236288220_2021_9.xlsx file ------------\n"
     ]
    }
   ],
   "source": [
    "df = pd.DataFrame()\n",
    "for file in files:\n",
    "    print(\"--------process cahsflow data------------\")\n",
    "    print(\"--------process {} file ------------\".format(file))\n",
    "    process_files = ProcessXlsxFiles(raw_data_path+file)\n",
    "    df_temp = process_files.get_data()\n",
    "    df = pd.concat([df, df_temp])"
   ],
   "metadata": {
    "collapsed": false,
    "pycharm": {
     "name": "#%%\n"
    }
   }
  },
  {
   "cell_type": "code",
   "execution_count": 15,
   "outputs": [],
   "source": [
    "df[\"MONTH\"] = df.FECHA.dt.month"
   ],
   "metadata": {
    "collapsed": false,
    "pycharm": {
     "name": "#%%\n"
    }
   }
  }
 ],
 "metadata": {
  "kernelspec": {
   "display_name": "Python 3",
   "language": "python",
   "name": "python3"
  },
  "language_info": {
   "codemirror_mode": {
    "name": "ipython",
    "version": 2
   },
   "file_extension": ".py",
   "mimetype": "text/x-python",
   "name": "python",
   "nbconvert_exporter": "python",
   "pygments_lexer": "ipython2",
   "version": "2.7.6"
  }
 },
 "nbformat": 4,
 "nbformat_minor": 0
}